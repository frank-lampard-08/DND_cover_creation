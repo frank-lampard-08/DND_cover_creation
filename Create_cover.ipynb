{
 "cells": [
  {
   "cell_type": "code",
   "execution_count": 172,
   "id": "00331b28",
   "metadata": {},
   "outputs": [],
   "source": [
    "from PIL import Image, ImageDraw, ImageFont\n",
    "import pandas as pd"
   ]
  },
  {
   "cell_type": "code",
   "execution_count": 173,
   "id": "215e604f",
   "metadata": {},
   "outputs": [],
   "source": [
    "# 角色名称\n",
    "name = '希尔娜·茶叶'\n",
    "character_image = name + '.jpg'\n",
    "\n",
    "# 打开角色图像\n",
    "character = Image.open(f'Character/{character_image}')\n",
    "\n",
    "# 打开要叠加的图片\n",
    "sample = Image.open('DND draft/DND character sample.png')\n",
    "\n",
    "# 指定叠加图片的位置（左上角坐标）\n",
    "paste_position = (0, 0)\n",
    "\n",
    "# 将overlay图片叠加到background图片上\n",
    "character.paste(sample, paste_position, sample)\n",
    "\n",
    "# 创建一个用于绘制的对象\n",
    "draw = ImageDraw.Draw(character)\n",
    "\n",
    "# 设置字体和大小\n",
    "# 注意: 在某些环境下，可能需要提供字体文件的完整路径\n",
    "# 使用原始字符串，并确保路径正确\n",
    "font_path_1 = r'C:\\Users\\Peter Parker\\AppData\\Local\\Microsoft\\Windows\\Fonts\\禹卫书法行书简体.ttf'\n",
    "font1 = ImageFont.truetype('STXINGKA.TTF', size=135)\n",
    "# font1 = ImageFont.truetype(font_path, size=135)\n",
    "\n",
    "font_path_2 = r'C:\\Users\\Peter Parker\\AppData\\Local\\Microsoft\\Windows\\Fonts\\阿里巴巴普惠体-Medium.ttf'\n",
    "# font1 = ImageFont.truetype(font_path, size=135)\n",
    "font2 = ImageFont.truetype(font_path_2, size=100)\n",
    "font3 = ImageFont.truetype(font_path_2, size=60)\n",
    "\n",
    "\n",
    "\n"
   ]
  },
  {
   "cell_type": "code",
   "execution_count": 174,
   "id": "cc38a01e",
   "metadata": {},
   "outputs": [],
   "source": [
    "# CSV文件的路径\n",
    "csv_file_path = 'Data/'+ name + '.csv'"
   ]
  },
  {
   "cell_type": "code",
   "execution_count": 175,
   "id": "6282a906",
   "metadata": {
    "scrolled": true
   },
   "outputs": [
    {
     "name": "stdout",
     "output_type": "stream",
     "text": [
      "        data\n",
      "角色名   希尔娜·茶叶\n",
      "等级         1\n",
      "种族       木精灵\n",
      "职业     游侠（1）\n",
      "兼职1        /\n",
      "兼职2        /\n",
      "阵营      混乱善良\n",
      "背景      化外之民\n",
      "故乡       无冬城\n",
      "信仰       悠妲拉\n",
      "规则       PHB\n",
      "AC        16\n",
      "力量        12\n",
      "敏捷        18\n",
      "体质         9\n",
      "智力        12\n",
      "感知        14\n",
      "魅力        12\n",
      "力量调整      +1\n",
      "敏捷调整      +4\n",
      "体质调整      -1\n",
      "智力调整      +1\n",
      "感知调整      +2\n",
      "魅力调整      +1\n",
      "特色1     远程输出\n",
      "特色2     森民出生\n"
     ]
    }
   ],
   "source": [
    "# 使用pandas读取CSV文件\n",
    "df = pd.read_csv(csv_file_path, encoding='GBK', index_col=0)\n",
    "print(df)"
   ]
  },
  {
   "cell_type": "code",
   "execution_count": 176,
   "id": "54a70454",
   "metadata": {},
   "outputs": [],
   "source": [
    "Name = name\n",
    "Level = df.loc['等级', 'data']\n",
    "Race = df.loc['种族', 'data']\n",
    "Class= df.loc['职业', 'data']\n",
    "MClass1 = df.loc['兼职1', 'data']\n",
    "MClass2 = df.loc['兼职2', 'data']\n",
    "Alignment = df.loc['阵营', 'data']\n",
    "Background = df.loc['背景', 'data']\n",
    "Home = df.loc['故乡', 'data']\n",
    "Belief = df.loc['信仰', 'data']\n",
    "Rule = df.loc['规则', 'data']\n",
    "AC = df.loc['AC', 'data']\n",
    "STR = df.loc['力量', 'data']\n",
    "DEX = df.loc['敏捷', 'data']\n",
    "CON = df.loc['体质', 'data']\n",
    "INT = df.loc['智力', 'data']\n",
    "WIS = df.loc['感知', 'data']\n",
    "CHA = df.loc['魅力', 'data']\n",
    "STRa = df.loc['力量调整', 'data']\n",
    "DEXa = df.loc['敏捷调整', 'data']\n",
    "CONa = df.loc['体质调整', 'data']\n",
    "INTa = df.loc['智力调整', 'data']\n",
    "WISa = df.loc['感知调整', 'data']\n",
    "CHAa = df.loc['魅力调整', 'data']\n",
    "FEA_1 = df.loc['特色1', 'data']\n",
    "FEA_2 = df.loc['特色2', 'data']\n"
   ]
  },
  {
   "cell_type": "code",
   "execution_count": 177,
   "id": "64e5b515",
   "metadata": {},
   "outputs": [],
   "source": [
    "# 添加文本\n",
    "draw.text((550, 2420), f\"{name}\", fill=\"black\", font=font1)\n",
    "draw.text((150, 2420), f\"{Level}\", fill=\"black\", font=font2)\n",
    "draw.text((290, 2730), f\"{Race}\", fill=\"black\", font=font3)\n",
    "draw.text((880, 2730), f\"{Class}\", fill=\"black\", font=font3)\n",
    "draw.text((1440, 2730), f\"{MClass1}\", fill=\"black\", font=font3)\n",
    "\n",
    "draw.text((290, 2940), f\"{Alignment}\", fill=\"black\", font=font3)\n",
    "draw.text((880, 2940), f\"{Background}\", fill=\"black\", font=font3)\n",
    "draw.text((1440, 2940), f\"{MClass2}\", fill=\"black\", font=font3)\n",
    "\n",
    "draw.text((290, 3150), f\"{Home}\", fill=\"black\", font=font3)\n",
    "draw.text((880, 3150), f\"{Belief}\", fill=\"black\", font=font3)\n",
    "\n",
    "draw.text((290, 3350), f\"{Rule}\", fill=\"black\", font=font3)\n",
    "\n",
    "draw.text((1420, 3330), f\"{AC}\", fill=\"black\", font=font2)\n",
    "\n",
    "draw.text((1830, 210), f\"{STR}\", fill=\"black\", font=font2)\n",
    "draw.text((1860, 450), f\"{STRa}\", fill=\"black\", font=font3)\n",
    "\n",
    "draw.text((1830, 710), f\"{DEX}\", fill=\"black\", font=font2)\n",
    "draw.text((1860, 950), f\"{DEXa}\", fill=\"black\", font=font3)\n",
    "\n",
    "draw.text((1830, 1210), f\"{CON}\", fill=\"black\", font=font2)\n",
    "draw.text((1860, 1450), f\"{CONa}\", fill=\"black\", font=font3)\n",
    "\n",
    "draw.text((1830, 1720), f\"{INT}\", fill=\"black\", font=font2)\n",
    "draw.text((1860, 1960), f\"{INTa}\", fill=\"black\", font=font3)\n",
    "\n",
    "draw.text((1830, 2230), f\"{WIS}\", fill=\"black\", font=font2)\n",
    "draw.text((1860, 2470), f\"{WISa}\", fill=\"black\", font=font3)\n",
    "\n",
    "draw.text((1830, 2730), f\"{CHA}\", fill=\"black\", font=font2)\n",
    "draw.text((1860, 2970), f\"{CHAa}\", fill=\"black\", font=font3)\n",
    "\n",
    "draw.text((2010, 3145), f\"{FEA_1}\", fill=\"black\", font=font2)\n",
    "draw.text((2010, 3315), f\"{FEA_2}\", fill=\"black\", font=font2)"
   ]
  },
  {
   "cell_type": "code",
   "execution_count": 178,
   "id": "14430c77",
   "metadata": {},
   "outputs": [],
   "source": [
    "# 保存图像\n",
    "character.save('Outputs/'+name+'.png')"
   ]
  },
  {
   "cell_type": "code",
   "execution_count": null,
   "id": "aa8e26d4",
   "metadata": {},
   "outputs": [],
   "source": []
  }
 ],
 "metadata": {
  "kernelspec": {
   "display_name": "Python 3 (ipykernel)",
   "language": "python",
   "name": "python3"
  },
  "language_info": {
   "codemirror_mode": {
    "name": "ipython",
    "version": 3
   },
   "file_extension": ".py",
   "mimetype": "text/x-python",
   "name": "python",
   "nbconvert_exporter": "python",
   "pygments_lexer": "ipython3",
   "version": "3.11.5"
  }
 },
 "nbformat": 4,
 "nbformat_minor": 5
}
